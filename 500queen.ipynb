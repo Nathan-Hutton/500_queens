{
 "cells": [
  {
   "cell_type": "markdown",
   "id": "a882c5be-876e-4869-a446-36dc2837345f",
   "metadata": {},
   "source": [
    "# 500-queen\n",
    "\n",
    "In this assignment, you need to use efficient backtracking to solve 500-queen problem. "
   ]
  },
  {
   "cell_type": "code",
   "execution_count": 1,
   "id": "4272f1bb-1257-4a2a-9e61-e0bc6c8a7619",
   "metadata": {},
   "outputs": [],
   "source": [
    "import numpy as np\n",
    "import matplotlib.pyplot as plt"
   ]
  },
  {
   "cell_type": "code",
   "execution_count": 2,
   "id": "a2af85a5-e41e-497a-963b-2f4bc93d3303",
   "metadata": {},
   "outputs": [],
   "source": [
    "import warnings\n",
    "warnings.filterwarnings('ignore')"
   ]
  },
  {
   "cell_type": "code",
   "execution_count": 3,
   "id": "94d8c5f8-81e1-4494-a73e-406c6ca78a09",
   "metadata": {},
   "outputs": [],
   "source": [
    "class CSP():\n",
    "    \"\"\"This class describes finite-domain Constraint Satisfaction Problems.\n",
    "    A CSP is specified by the following inputs:\n",
    "        variables   A list of variables; each is atomic (e.g. int or string).\n",
    "        domains     A dict of {var:[possible_value, ...]} entries.\n",
    "        neighbors   A dict of {var:[var,...]} that for each variable lists\n",
    "                    the other variables that participate in constraints.\n",
    "        constraints A function f(A, a, B, b) that returns true if neighbors\n",
    "                    A, B satisfy the constraint when they have values A=a, B=b\n",
    "\n",
    "    In the textbook and in most mathematical definitions, the\n",
    "    constraints are specified as explicit pairs of allowable values,\n",
    "    but the formulation here is easier to express and more compact for\n",
    "    most cases (for example, the n-Queens problem can be represented\n",
    "    in O(n) space using this notation, instead of O(n^4) for the\n",
    "    explicit representation). In terms of describing the CSP as a\n",
    "    problem, that's all there is.\n",
    "\n",
    "    However, the class also supports data structures and methods that help you\n",
    "    solve CSPs by calling a search function on the CSP. Methods and slots are\n",
    "    as follows, where the argument 'a' represents an assignment, which is a\n",
    "    dict of {var:val} entries:\n",
    "        assign(var, val, a)     Assign a[var] = val; do other bookkeeping\n",
    "        unassign(var, a)        Do del a[var], plus other bookkeeping\n",
    "        nconflicts(var, val, a) Return if constaints are satisfied for var=val with assigned variables.\n",
    "    \"\"\"\n",
    "\n",
    "    def __init__(self, variables, domains, neighbors, constraints):\n",
    "        \"\"\"Construct a CSP problem. If variables is empty, it becomes domains.keys().\"\"\"\n",
    "        variables = variables or list(domains.keys())\n",
    "        self.variables = variables\n",
    "        self.domains = domains\n",
    "        self.neighbors = neighbors\n",
    "        self.constraints = constraints\n",
    "\n",
    "    def assign(self, var, val, assignment):\n",
    "        \"\"\"Add {var: val} to assignment; Discard the old value if any.\"\"\"\n",
    "        assignment[var] = val\n",
    "\n",
    "    def unassign(self, var, assignment):\n",
    "        \"\"\"Remove {var: val} from assignment.\n",
    "        DO NOT call this if you are changing a variable to a new value;\n",
    "        just call assign for that.\"\"\"\n",
    "        if var in assignment:\n",
    "            del assignment[var]\n",
    "\n",
    "    def conflict(self, var, val, assignment):\n",
    "        \"\"\"Return if constaints are satisfied for var=val with assigned variables.\"\"\"\n",
    "\n",
    "        # Subclasses may implement this more efficiently\n",
    "        def conflict_var(var2):\n",
    "            return var2 in assignment and not self.constraints(var, val, var2, assignment[var2])\n",
    "\n",
    "        return 0 != np.sum(conflict_var(v) for v in self.neighbors[var])\n",
    "\n",
    "    # These are for constraint propagation\n",
    "\n",
    "    def prune(self, var, value, removals):\n",
    "        \"\"\"Rule out var=value.\"\"\"\n",
    "        self.domains[var].remove(value)\n",
    "        if removals is not None:\n",
    "            removals.append((var, value))\n",
    "\n",
    "    def restore(self, removals):\n",
    "        \"\"\"Undo prune and all inferences from it.\"\"\"\n",
    "        for B, b in removals:\n",
    "            self.domains[B].append(b)\n"
   ]
  },
  {
   "cell_type": "code",
   "execution_count": 4,
   "id": "8019eb7d-8cae-433e-a338-85a07813b07a",
   "metadata": {},
   "outputs": [],
   "source": [
    "def queen_constraint(A, a, B, b):\n",
    "    \"\"\"Constraint is satisfied (true) if A, B are really the same variable,\n",
    "    or if they are not in the same row, down diagonal, or up diagonal.\"\"\"\n",
    "    # All (i,j) on same diagonal / have same sum i+j, from top left corner 0 to bottom right corner 2n-2\n",
    "    # All (i,j) on same diagonal \\ have same difference i-j, from bottom left corner n-1 to top right corner -(n-1) \n",
    "    return A == B or (a != b and A + a != B + b and A - a != B - b)"
   ]
  },
  {
   "cell_type": "code",
   "execution_count": 5,
   "id": "e518f839-2b13-4fd6-92a6-abe51e69420c",
   "metadata": {},
   "outputs": [],
   "source": [
    "class NQueensCSP(CSP):\n",
    "    \"\"\"\n",
    "    Make a CSP for the nQueens problem.\n",
    "    Think of placing queens one per column, from left to right.\n",
    "    That means position (x, y) represents (var, val) in the CSP.\n",
    "    \"\"\"\n",
    "\n",
    "    def __init__(self, n):\n",
    "        \"\"\"Initialize data structures for n Queens.\"\"\"\n",
    "        domains = {}\n",
    "        neighbors = {}\n",
    "        for i in range(n):\n",
    "            domains[i] = list(range(n))\n",
    "            neighbors[i] = list(range(n))\n",
    "        CSP.__init__(self, list(range(n)), domains,\n",
    "                     neighbors, queen_constraint)\n",
    "\n",
    "    def display(self, assignment):\n",
    "        \"\"\"Print the queens for n < 30.\"\"\"\n",
    "        n = len(assignment)\n",
    "        board = np.array([2 * int((i + j) % 2) for j in range(n) for i in range(n)]).reshape((n, n))\n",
    "        fig = plt.figure(figsize=(7, 7))\n",
    "        ax = fig.add_subplot(111)\n",
    "        ax.set_title('{} Queens'.format(n))\n",
    "        plt.imshow(board, cmap='binary', interpolation='nearest')\n",
    "        # NQueensCSP gives a solution as a dictionary\n",
    "        if isinstance(assignment, dict):\n",
    "            for (k, v) in assignment.items():\n",
    "                plt.annotate('Q', (k,v), color='red', size=200/n)\n",
    "\n",
    "        fig.tight_layout()\n",
    "        plt.show()\n",
    "        \n",
    "    def verify(self, assigment):\n",
    "        \"\"\"Verify if assignment reaches a solution.\"\"\"\n",
    "        for var in self.variables:\n",
    "            if var not in assignment or self.conflict(var, assignment[var], assignment):\n",
    "                print(\"Solution is wrong!\\n\")\n",
    "                return \n",
    "        print(\"Solution is correct!\\n\")"
   ]
  },
  {
   "cell_type": "code",
   "execution_count": 6,
   "id": "0a34550c-9e6a-4d75-8fe9-ac8bfc2b45b3",
   "metadata": {},
   "outputs": [],
   "source": [
    "def first_unassigned_variable(csp, assignment):\n",
    "    \"\"\"\n",
    "    The default variable order.\n",
    "    Return the first variable in the list of unassigned variables. \n",
    "    \"\"\"\n",
    "    for var in csp.variables:\n",
    "        if var not in assignment:\n",
    "            return var\n",
    "    return None # if all variables have been assigned. "
   ]
  },
  {
   "cell_type": "code",
   "execution_count": 7,
   "id": "2f333e84-fa99-42cc-879f-8975b84d0385",
   "metadata": {},
   "outputs": [],
   "source": [
    "def no_inference(csp, var, value, assignment, removals):\n",
    "    \"\"\"The default inference.\n",
    "    \"\"\"\n",
    "    return True"
   ]
  },
  {
   "cell_type": "code",
   "execution_count": 8,
   "id": "82134c18-45b7-4db4-88ed-7b05b31697a9",
   "metadata": {},
   "outputs": [],
   "source": [
    "def backtracking_search(csp, select_unassigned_variable=first_unassigned_variable,\n",
    "                        inference=no_inference):\n",
    "    \"\"\"backtracking\"\"\"\n",
    "\n",
    "    def backtrack(assignment):\n",
    "        # assignment is a dictionary - variable:value or var:val. \n",
    "        if len(assignment) == len(csp.variables):\n",
    "            return assignment\n",
    "        var = select_unassigned_variable(csp, assignment) # MRV or first unassigned variable\n",
    "        for value in csp.domains[var]: # better if using LCV here\n",
    "            if not csp.conflict(var, value, assignment): # if no conflict \n",
    "                csp.assign(var, value, assignment) \n",
    "                removals = [] # values removed from unassigned variables during the forward checking or other inferences. \n",
    "                # True if there is no empty domain\n",
    "                if inference(csp, var, value, assignment, removals): # better if using AC-3\n",
    "                    result = backtrack(assignment)\n",
    "                    if result is not None:\n",
    "                        return result\n",
    "                csp.restore(removals)\n",
    "        csp.unassign(var, assignment)\n",
    "        return None\n",
    "\n",
    "    result = backtrack({})\n",
    "    return result"
   ]
  },
  {
   "cell_type": "markdown",
   "id": "802d52e5-25e4-422d-99c1-e46f9668105e",
   "metadata": {},
   "source": [
    "### Run backtracking with default setting:\n",
    "\n",
    "- Choose first unassigned variable.\n",
    "- Choose first value in its domain. \n",
    "- Do not prune any values from domains of unassigned variables after assigning this variable. "
   ]
  },
  {
   "cell_type": "code",
   "execution_count": 9,
   "id": "2e5629e6-4a76-4c90-9dbd-b848cfffe4a6",
   "metadata": {},
   "outputs": [
    {
     "name": "stdout",
     "output_type": "stream",
     "text": [
      "Solution is correct!\n",
      "\n"
     ]
    },
    {
     "data": {
      "image/png": "[encoded data removed]",
      "text/plain": [
       "<Figure size 504x504 with 1 Axes>"
      ]
     },
     "metadata": {
      "needs_background": "light"
     },
     "output_type": "display_data"
    },
    {
     "name": "stdout",
     "output_type": "stream",
     "text": [
      "CPU times: total: 46.9 ms\n",
      "Wall time: 94.4 ms\n"
     ]
    }
   ],
   "source": [
    "%%time\n",
    "eight_queens = NQueensCSP(8) # Choose a number less or equal than 15. \n",
    "assignment = backtracking_search(eight_queens)\n",
    "eight_queens.verify(assignment)\n",
    "eight_queens.display(assignment)"
   ]
  },
  {
   "cell_type": "markdown",
   "id": "fdd02dec-092c-4b8e-b5a3-8941d5e6982b",
   "metadata": {},
   "source": [
    "### Run backtracking with forward checking:\n",
    "\n",
    "- Choose first unassigned variable.\n",
    "- Choose first value in its domain. \n",
    "- Prune values from domains of unassigned variables after assigning this variable using forward checking. "
   ]
  },
  {
   "cell_type": "code",
   "execution_count": 10,
   "id": "2e2fa1e3-3cd8-4a7c-9704-83924aa6dab9",
   "metadata": {},
   "outputs": [],
   "source": [
    "def forward_checking(csp, var, value, assignment, removals):\n",
    "    \"\"\"Prune neighbor values inconsistent with var=value.\n",
    "    \n",
    "    Pseudocode:\n",
    "    for every neighbor B of var\n",
    "        if B is not assigned yet \n",
    "            check every value in current domain of B against value of var \n",
    "                if constraint is not satisified \n",
    "                    prune this value from B\n",
    "            if domain of B becomes empty \n",
    "                return False\n",
    "     return True\n",
    "     \"\"\"\n",
    "    # Your code goes here:\n",
    "    for neighbor in csp.neighbors[var]:\n",
    "        if neighbor not in assignment:\n",
    "            for val in csp.domains[neighbor]:\n",
    "                if not queen_constraint(var, value, neighbor, val):\n",
    "                    csp.prune(neighbor, val, removals)\n",
    "            if not csp.domains[neighbor]:\n",
    "                return False\n",
    "    return True\n"
   ]
  },
  {
   "cell_type": "markdown",
   "id": "d8f70dde-f807-4b8a-8d98-1caea49f467c",
   "metadata": {},
   "source": [
    "For 20-queens, backtracking with forward checking should take less than five seconds to find a solution. "
   ]
  },
  {
   "cell_type": "code",
   "execution_count": 11,
   "id": "8c76a0fa-009d-4a5b-9e00-2cba5fd9cf10",
   "metadata": {},
   "outputs": [
    {
     "name": "stdout",
     "output_type": "stream",
     "text": [
      "Solution is correct!\n",
      "\n",
      "CPU times: total: 1.28 s\n",
      "Wall time: 2.09 s\n"
     ]
    }
   ],
   "source": [
    "%%time\n",
    "eight_queens = NQueensCSP(20)  # Choose a number less or equal than 20. \n",
    "assignment = backtracking_search(eight_queens, first_unassigned_variable, forward_checking)\n",
    "eight_queens.verify(assignment)\n",
    "# eight_queens.display(assignment)"
   ]
  },
  {
   "cell_type": "markdown",
   "id": "e2a14f4b-3390-4f6c-b11e-f774efe9f720",
   "metadata": {},
   "source": [
    "### Run backtracking with MRV and forward checking:\n",
    "\n",
    "- Choose unassigned variable using MRV.\n",
    "- Choose first value in its domain. \n",
    "- Prune values from domains of unassigned variables after assigning this variable using forward checking. "
   ]
  },
  {
   "cell_type": "code",
   "execution_count": 24,
   "id": "dad66de2-cff5-4035-916b-2eed4abeb3de",
   "metadata": {},
   "outputs": [],
   "source": [
    "def mrv(csp, assignment):\n",
    "    \"\"\"Minimum-remaining-values heuristic.\n",
    "    Input: CSP of queen\n",
    "           Current assignment. \n",
    "    Output: An unassigned variable with smallest domain. \n",
    "    \"\"\"\n",
    "    # Your code goes here: \n",
    "    smallest_domain = 501\n",
    "    best_variable = None\n",
    "    for var in csp.variables:\n",
    "        if var in assignment:\n",
    "            continue\n",
    "        domain = csp.domains[var]\n",
    "        if len(domain) < smallest_domain:\n",
    "            smallest_domain = len(domain)\n",
    "            best_variable = var\n",
    "    return best_variable\n"
   ]
  },
  {
   "cell_type": "markdown",
   "id": "2cb9217b-7780-49c8-8af9-6400ac283f9f",
   "metadata": {},
   "source": [
    "For nqueens, the time that backtracking with MRV and forward checking needs to take to find a solution is:\n",
    "\n",
    "| N of queens | Time   |   |   |   |\n",
    "|-------------|--------|---|---|---|\n",
    "| 20          | 10 ms  |   |   |   |\n",
    "| 100         | 101 ms |   |   |   |\n",
    "| 500         | 7.11 s  |   |   |   |\n",
    "\n",
    "These runing time is measured on my Mac (MacBook Air (M1, 2020)).\n",
    "\n",
    "You must run your code using 500 queens and take less than 10 seconds to find a solution. "
   ]
  },
  {
   "cell_type": "code",
   "execution_count": 30,
   "id": "250650d6-6595-40ab-b213-c4f38c2a615d",
   "metadata": {},
   "outputs": [
    {
     "name": "stdout",
     "output_type": "stream",
     "text": [
      "Solution is correct!\n",
      "\n",
      "CPU times: total: 5.98 s\n",
      "Wall time: 8.08 s\n"
     ]
    }
   ],
   "source": [
    "%%time\n",
    "eight_queens = NQueensCSP(500)\n",
    "assignment = backtracking_search(eight_queens, mrv, forward_checking)\n",
    "# assignment = backtracking_search(eight_queens, first_unassigned_variable, forward_checking)\n",
    "eight_queens.verify(assignment)\n",
    "# eight_queens.display(assignment)"
   ]
  },
  {
   "cell_type": "code",
   "execution_count": null,
   "id": "cbe9a34e-efea-48b8-a98a-8ad2de2c31fb",
   "metadata": {},
   "outputs": [],
   "source": []
  },
  {
   "cell_type": "code",
   "execution_count": null,
   "id": "1001fd5b-1893-4ffe-8510-33dfa735cf72",
   "metadata": {},
   "outputs": [],
   "source": []
  }
 ],
 "metadata": {
  "kernelspec": {
   "display_name": "Python 3 (ipykernel)",
   "language": "python",
   "name": "python3"
  },
  "language_info": {
   "codemirror_mode": {
    "name": "ipython",
    "version": 3
   },
   "file_extension": ".py",
   "mimetype": "text/x-python",
   "name": "python",
   "nbconvert_exporter": "python",
   "pygments_lexer": "ipython3",
   "version": "3.9.12"
  }
 },
 "nbformat": 4,
 "nbformat_minor": 5
}
